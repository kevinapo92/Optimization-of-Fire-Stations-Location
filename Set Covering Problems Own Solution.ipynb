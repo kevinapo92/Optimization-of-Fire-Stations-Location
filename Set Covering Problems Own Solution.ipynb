{
 "cells": [
  {
   "cell_type": "markdown",
   "id": "ab92f8b0",
   "metadata": {},
   "source": [
    "Definition of the decision variables:\n",
    "\n",
    "Xi = binary variable, 1 = if a fire station is built in city i\n",
    "                      0 = otherwise\n",
    "\n",
    "total number of fire starions that are built: \n",
    "             \n",
    "             z = sum Xi\n",
    "             \n",
    "LP model\n"
   ]
  },
  {
   "cell_type": "markdown",
   "id": "2806de4b",
   "metadata": {},
   "source": [
    "min z = x1 + x2 + x3 + x4 + x5 + x6\n",
    "st.\n",
    "\n",
    "constraints 15 minutes within.\n",
    "\n",
    "        x1 + x2                      >= 1 (city 1 constraint)\n",
    "        x1 + x2                + x6  >= 1 (city 2 constraint)\n",
    "                  x3 + x4            >= 1 (city 3 constraint)\n",
    "                  x3 + x4 + x5       >= 1 (city 4 constraint)\n",
    "                       x4 + x5  + x6 >= 1 (city 5 constraint)\n",
    "             x2           + x5  + x6 >= 1 (city 6 constraint)\n",
    "            \n",
    "            xi=0 or 1 i=1,2,3,4,5,6\n",
    "                "
   ]
  },
  {
   "cell_type": "code",
   "execution_count": 5,
   "id": "3c23c048",
   "metadata": {},
   "outputs": [],
   "source": [
    "import cplex\n",
    "import pandas as pd"
   ]
  },
  {
   "cell_type": "code",
   "execution_count": 6,
   "id": "e6a88799",
   "metadata": {},
   "outputs": [
    {
     "data": {
      "text/html": [
       "<div>\n",
       "<style scoped>\n",
       "    .dataframe tbody tr th:only-of-type {\n",
       "        vertical-align: middle;\n",
       "    }\n",
       "\n",
       "    .dataframe tbody tr th {\n",
       "        vertical-align: top;\n",
       "    }\n",
       "\n",
       "    .dataframe thead th {\n",
       "        text-align: right;\n",
       "    }\n",
       "</style>\n",
       "<table border=\"1\" class=\"dataframe\">\n",
       "  <thead>\n",
       "    <tr style=\"text-align: right;\">\n",
       "      <th></th>\n",
       "      <th>1</th>\n",
       "      <th>2</th>\n",
       "      <th>3</th>\n",
       "      <th>4</th>\n",
       "      <th>5</th>\n",
       "      <th>6</th>\n",
       "    </tr>\n",
       "    <tr>\n",
       "      <th>City/City</th>\n",
       "      <th></th>\n",
       "      <th></th>\n",
       "      <th></th>\n",
       "      <th></th>\n",
       "      <th></th>\n",
       "      <th></th>\n",
       "    </tr>\n",
       "  </thead>\n",
       "  <tbody>\n",
       "    <tr>\n",
       "      <th>1</th>\n",
       "      <td>0</td>\n",
       "      <td>10</td>\n",
       "      <td>20</td>\n",
       "      <td>30</td>\n",
       "      <td>30</td>\n",
       "      <td>20</td>\n",
       "    </tr>\n",
       "    <tr>\n",
       "      <th>2</th>\n",
       "      <td>10</td>\n",
       "      <td>0</td>\n",
       "      <td>25</td>\n",
       "      <td>35</td>\n",
       "      <td>20</td>\n",
       "      <td>10</td>\n",
       "    </tr>\n",
       "    <tr>\n",
       "      <th>3</th>\n",
       "      <td>20</td>\n",
       "      <td>25</td>\n",
       "      <td>0</td>\n",
       "      <td>15</td>\n",
       "      <td>30</td>\n",
       "      <td>20</td>\n",
       "    </tr>\n",
       "    <tr>\n",
       "      <th>4</th>\n",
       "      <td>30</td>\n",
       "      <td>35</td>\n",
       "      <td>15</td>\n",
       "      <td>0</td>\n",
       "      <td>15</td>\n",
       "      <td>25</td>\n",
       "    </tr>\n",
       "    <tr>\n",
       "      <th>5</th>\n",
       "      <td>30</td>\n",
       "      <td>20</td>\n",
       "      <td>30</td>\n",
       "      <td>15</td>\n",
       "      <td>0</td>\n",
       "      <td>14</td>\n",
       "    </tr>\n",
       "    <tr>\n",
       "      <th>6</th>\n",
       "      <td>20</td>\n",
       "      <td>10</td>\n",
       "      <td>20</td>\n",
       "      <td>25</td>\n",
       "      <td>14</td>\n",
       "      <td>0</td>\n",
       "    </tr>\n",
       "  </tbody>\n",
       "</table>\n",
       "</div>"
      ],
      "text/plain": [
       "            1   2   3   4   5   6\n",
       "City/City                        \n",
       "1           0  10  20  30  30  20\n",
       "2          10   0  25  35  20  10\n",
       "3          20  25   0  15  30  20\n",
       "4          30  35  15   0  15  25\n",
       "5          30  20  30  15   0  14\n",
       "6          20  10  20  25  14   0"
      ]
     },
     "execution_count": 6,
     "metadata": {},
     "output_type": "execute_result"
    }
   ],
   "source": [
    "city_data = pd.read_excel('set_covering_input.xlsx', index_col=0)\n",
    "#set index_col=0 to get rid of the 1st column (city index) and make it an index\n",
    "city_data"
   ]
  },
  {
   "cell_type": "markdown",
   "id": "71e10d43",
   "metadata": {},
   "source": [
    "convert the dataframe in a vector of list\n"
   ]
  },
  {
   "cell_type": "code",
   "execution_count": 7,
   "id": "bc4ec163",
   "metadata": {},
   "outputs": [
    {
     "data": {
      "text/plain": [
       "[[0, 10, 20, 30, 30, 20],\n",
       " [10, 0, 25, 35, 20, 10],\n",
       " [20, 25, 0, 15, 30, 20],\n",
       " [30, 35, 15, 0, 15, 25],\n",
       " [30, 20, 30, 15, 0, 14],\n",
       " [20, 10, 20, 25, 14, 0]]"
      ]
     },
     "execution_count": 7,
     "metadata": {},
     "output_type": "execute_result"
    }
   ],
   "source": [
    "cities = city_data.values.tolist() \n",
    "cities"
   ]
  },
  {
   "cell_type": "markdown",
   "id": "3ed257f2",
   "metadata": {},
   "source": [
    "the problem use binary variable and must have 1-0 coefficients so is neccesary to create the matrix with these coefficients\n"
   ]
  },
  {
   "cell_type": "code",
   "execution_count": 8,
   "id": "348f4257",
   "metadata": {},
   "outputs": [
    {
     "data": {
      "text/plain": [
       "[[1, 1, 0, 0, 0, 0],\n",
       " [1, 1, 0, 0, 0, 1],\n",
       " [0, 0, 1, 1, 0, 0],\n",
       " [0, 0, 1, 1, 1, 0],\n",
       " [0, 0, 0, 1, 1, 1],\n",
       " [0, 1, 0, 0, 1, 1]]"
      ]
     },
     "execution_count": 8,
     "metadata": {},
     "output_type": "execute_result"
    }
   ],
   "source": [
    "\n",
    "\n",
    "city_min = [] \n",
    "\n",
    "for i in range(len(cities)): \n",
    "    the_list = []\n",
    "    for j in range(len(cities[0])):\n",
    "        if cities[i][j] <= 15:\n",
    "            the_list.append(1)\n",
    "        else:\n",
    "            the_list.append(0)\n",
    "    city_min.append(the_list)\n",
    "\n",
    "city_min"
   ]
  },
  {
   "cell_type": "markdown",
   "id": "59eae0e7",
   "metadata": {},
   "source": [
    "we already have all the coefficients and the LP model, so we can create the lists for the other elements of the model\n"
   ]
  },
  {
   "cell_type": "code",
   "execution_count": 9,
   "id": "e1a63326",
   "metadata": {},
   "outputs": [
    {
     "name": "stdout",
     "output_type": "stream",
     "text": [
      "['B', 'B', 'B', 'B', 'B', 'B']\n",
      "[1, 1, 1, 1, 1, 1]\n",
      "[['G'], ['G'], ['G'], ['G'], ['G'], ['G']]\n",
      "['City 1', 'City 2', 'City 3', 'City 4', 'City 5', 'City 6']\n",
      "[[1], [1], [1], [1], [1], [1]]\n"
     ]
    }
   ],
   "source": [
    "\n",
    "variable_type = []\n",
    "obj_func = []\n",
    "senses = []\n",
    "city_names = []\n",
    "rhs = []\n",
    "\n",
    "\n",
    "for i in range(len(cities)):\n",
    "    variable_type.append(\"B\")\n",
    "    obj_func.append(1)\n",
    "    senses.append(['G'])\n",
    "    city_names.append('City ' + str(i+1))\n",
    "    rhs.append([1])\n",
    "    \n",
    "print(variable_type)\n",
    "print(obj_func)\n",
    "print(senses)\n",
    "print(city_names)\n",
    "print(rhs) \n",
    " "
   ]
  },
  {
   "cell_type": "markdown",
   "id": "f3a44c8d",
   "metadata": {},
   "source": [
    "Define the objective function and the decision variables"
   ]
  },
  {
   "cell_type": "code",
   "execution_count": 10,
   "id": "f1e0ecb3",
   "metadata": {},
   "outputs": [
    {
     "data": {
      "text/plain": [
       "range(0, 6)"
      ]
     },
     "execution_count": 10,
     "metadata": {},
     "output_type": "execute_result"
    }
   ],
   "source": [
    "cpx = cplex.Cplex()\n",
    "cpx.objective.set_sense(cpx.objective.sense.minimize)\n",
    "cpx.variables.add(obj = obj_func, names=city_names, types=variable_type)\n"
   ]
  },
  {
   "cell_type": "markdown",
   "id": "a2ed746f",
   "metadata": {},
   "source": [
    "Aggregate the constraints for each city, in this case we use the method of \"adding rows\""
   ]
  },
  {
   "cell_type": "code",
   "execution_count": 11,
   "id": "a62113c5",
   "metadata": {},
   "outputs": [],
   "source": [
    "for i in range(len(cities)): #create a constraint for each city\n",
    "    cpx.linear_constraints.add(lin_expr=[[city_names, city_min[i]]], rhs=[rhs[i]],\n",
    "                             senses=senses[i],names=[city_names[i]])\n",
    "    "
   ]
  },
  {
   "cell_type": "markdown",
   "id": "1f0b9fc2",
   "metadata": {},
   "source": [
    "Solve the problem"
   ]
  },
  {
   "cell_type": "code",
   "execution_count": 12,
   "id": "089521ae",
   "metadata": {},
   "outputs": [
    {
     "name": "stdout",
     "output_type": "stream",
     "text": [
      "Version identifier: 22.1.0.0 | 2022-03-09 | 1a383f8ce\n",
      "CPXPARAM_Read_DataCheck                          1\n",
      "Found incumbent of value 6.000000 after 0.00 sec. (0.00 ticks)\n",
      "Tried aggregator 1 time.\n",
      "MIP Presolve eliminated 6 rows and 6 columns.\n",
      "All rows and columns eliminated.\n",
      "Presolve time = 0.00 sec. (0.01 ticks)\n",
      "\n",
      "Root node processing (before b&c):\n",
      "  Real time             =    0.00 sec. (0.01 ticks)\n",
      "Parallel b&c, 8 threads:\n",
      "  Real time             =    0.00 sec. (0.00 ticks)\n",
      "  Sync time (average)   =    0.00 sec.\n",
      "  Wait time (average)   =    0.00 sec.\n",
      "                          ------------\n",
      "Total (root+branch&cut) =    0.00 sec. (0.01 ticks)\n",
      "\n",
      "Solution status =  101 : MIP_optimal\n",
      "Solution value  =  2.0\n",
      "Open Fire stations in: \n",
      "City 2\n",
      "City 4\n"
     ]
    }
   ],
   "source": [
    "cpx.solve()\n",
    "optimal_cities = cpx.solution.get_values()\n",
    "print()\n",
    "print(\"Solution status = \", cpx.solution.get_status(), \":\", end=' ')\n",
    "print(cpx.solution.status[cpx.solution.get_status()])\n",
    "print(\"Solution value  = \", cpx.solution.get_objective_value())\n",
    "print(\"Open Fire stations in: \")\n",
    "for i in range(len(cities)):\n",
    "      if optimal_cities[i] > 0:\n",
    "            print(city_names[i])"
   ]
  },
  {
   "cell_type": "code",
   "execution_count": null,
   "id": "7ea792c9",
   "metadata": {},
   "outputs": [],
   "source": []
  }
 ],
 "metadata": {
  "kernelspec": {
   "display_name": "py38_1_1_1",
   "language": "python",
   "name": "py38_1_1_1"
  },
  "language_info": {
   "codemirror_mode": {
    "name": "ipython",
    "version": 3
   },
   "file_extension": ".py",
   "mimetype": "text/x-python",
   "name": "python",
   "nbconvert_exporter": "python",
   "pygments_lexer": "ipython3",
   "version": "3.8.13"
  }
 },
 "nbformat": 4,
 "nbformat_minor": 5
}
